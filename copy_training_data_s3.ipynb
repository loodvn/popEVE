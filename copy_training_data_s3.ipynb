{
 "cells": [
  {
   "cell_type": "code",
   "execution_count": 2,
   "metadata": {},
   "outputs": [],
   "source": [
    "import os\n",
    "\n",
    "import pandas as pd"
   ]
  },
  {
   "cell_type": "code",
   "execution_count": 4,
   "metadata": {},
   "outputs": [
    {
     "data": {
      "text/plain": [
       "['mapping_snv_EVE_benchmarking_20240427.csv',\n",
       " 'mapping_snv_gf_EVE_benchmarking_20240427.csv',\n",
       " 'mapping_benchmarking_ESM1V_20240427.csv',\n",
       " 'mapping_snv_ESM1V_benchmarking_20240427.csv',\n",
       " 'mapping_benchmarking_EVE_20240427.csv']"
      ]
     },
     "execution_count": 4,
     "metadata": {},
     "output_type": "execute_result"
    }
   ],
   "source": [
    "mapping_files = [f for f in os.listdir() if f.startswith(\"mapping\")]\n",
    "mapping_files"
   ]
  },
  {
   "cell_type": "code",
   "execution_count": 14,
   "metadata": {},
   "outputs": [
    {
     "data": {
      "text/html": [
       "<div>\n",
       "<style scoped>\n",
       "    .dataframe tbody tr th:only-of-type {\n",
       "        vertical-align: middle;\n",
       "    }\n",
       "\n",
       "    .dataframe tbody tr th {\n",
       "        vertical-align: top;\n",
       "    }\n",
       "\n",
       "    .dataframe thead th {\n",
       "        text-align: right;\n",
       "    }\n",
       "</style>\n",
       "<table border=\"1\" class=\"dataframe\">\n",
       "  <thead>\n",
       "    <tr style=\"text-align: right;\">\n",
       "      <th></th>\n",
       "      <th>protein_id</th>\n",
       "      <th>evo_model</th>\n",
       "      <th>unique_id</th>\n",
       "      <th>seen_count</th>\n",
       "      <th>not_seen_count</th>\n",
       "      <th>file_path</th>\n",
       "      <th>S3</th>\n",
       "    </tr>\n",
       "  </thead>\n",
       "  <tbody>\n",
       "    <tr>\n",
       "      <th>0</th>\n",
       "      <td>NP_001341516.1</td>\n",
       "      <td>EVE</td>\n",
       "      <td>NP_001341516.1_EVE_3</td>\n",
       "      <td>876</td>\n",
       "      <td>35509</td>\n",
       "      <td>/n/groups/marks/projects/Poly/data/model_score...</td>\n",
       "      <td>data/model_score_files/popEVE_training_files_2...</td>\n",
       "    </tr>\n",
       "    <tr>\n",
       "      <th>1</th>\n",
       "      <td>NP_057197.2</td>\n",
       "      <td>EVE</td>\n",
       "      <td>NP_057197.2_EVE_7</td>\n",
       "      <td>460</td>\n",
       "      <td>14056</td>\n",
       "      <td>/n/groups/marks/projects/Poly/data/model_score...</td>\n",
       "      <td>data/model_score_files/popEVE_training_files_2...</td>\n",
       "    </tr>\n",
       "    <tr>\n",
       "      <th>2</th>\n",
       "      <td>NP_115599.2</td>\n",
       "      <td>EVE</td>\n",
       "      <td>NP_115599.2_EVE_9</td>\n",
       "      <td>1346</td>\n",
       "      <td>37300</td>\n",
       "      <td>/n/groups/marks/projects/Poly/data/model_score...</td>\n",
       "      <td>data/model_score_files/popEVE_training_files_2...</td>\n",
       "    </tr>\n",
       "    <tr>\n",
       "      <th>3</th>\n",
       "      <td>NP_060956.1</td>\n",
       "      <td>EVE</td>\n",
       "      <td>NP_060956.1_EVE_17</td>\n",
       "      <td>70</td>\n",
       "      <td>7093</td>\n",
       "      <td>/n/groups/marks/projects/Poly/data/model_score...</td>\n",
       "      <td>data/model_score_files/popEVE_training_files_2...</td>\n",
       "    </tr>\n",
       "    <tr>\n",
       "      <th>4</th>\n",
       "      <td>NP_055926.1</td>\n",
       "      <td>EVE</td>\n",
       "      <td>NP_055926.1_EVE_19</td>\n",
       "      <td>465</td>\n",
       "      <td>9871</td>\n",
       "      <td>/n/groups/marks/projects/Poly/data/model_score...</td>\n",
       "      <td>data/model_score_files/popEVE_training_files_2...</td>\n",
       "    </tr>\n",
       "  </tbody>\n",
       "</table>\n",
       "</div>"
      ],
      "text/plain": [
       "       protein_id evo_model             unique_id  seen_count  not_seen_count  \\\n",
       "0  NP_001341516.1       EVE  NP_001341516.1_EVE_3         876           35509   \n",
       "1     NP_057197.2       EVE     NP_057197.2_EVE_7         460           14056   \n",
       "2     NP_115599.2       EVE     NP_115599.2_EVE_9        1346           37300   \n",
       "3     NP_060956.1       EVE    NP_060956.1_EVE_17          70            7093   \n",
       "4     NP_055926.1       EVE    NP_055926.1_EVE_19         465            9871   \n",
       "\n",
       "                                           file_path  \\\n",
       "0  /n/groups/marks/projects/Poly/data/model_score...   \n",
       "1  /n/groups/marks/projects/Poly/data/model_score...   \n",
       "2  /n/groups/marks/projects/Poly/data/model_score...   \n",
       "3  /n/groups/marks/projects/Poly/data/model_score...   \n",
       "4  /n/groups/marks/projects/Poly/data/model_score...   \n",
       "\n",
       "                                                  S3  \n",
       "0  data/model_score_files/popEVE_training_files_2...  \n",
       "1  data/model_score_files/popEVE_training_files_2...  \n",
       "2  data/model_score_files/popEVE_training_files_2...  \n",
       "3  data/model_score_files/popEVE_training_files_2...  \n",
       "4  data/model_score_files/popEVE_training_files_2...  "
      ]
     },
     "execution_count": 14,
     "metadata": {},
     "output_type": "execute_result"
    }
   ],
   "source": [
    "# Step 1: Add a S3 column to the mapping file\n",
    "dfs = {}\n",
    "for f in mapping_files:\n",
    "    df = pd.read_csv(f)\n",
    "    df[\"S3\"] = df[\"file_path\"].str.replace(\"/n/groups/marks/projects/Poly/\", \"\")  # We'll need to copy these files as suffixes to s3://markslab-private/popEVE/\n",
    "    dfs[f] = df\n",
    "    df.to_csv(f, index=False)\n",
    "\n",
    "dfs[\"mapping_benchmarking_EVE_20240427.csv\"].head()\n"
   ]
  },
  {
   "cell_type": "code",
   "execution_count": 9,
   "metadata": {},
   "outputs": [
    {
     "data": {
      "text/plain": [
       "33488"
      ]
     },
     "execution_count": 9,
     "metadata": {},
     "output_type": "execute_result"
    }
   ],
   "source": [
    "# Now copy all these files to s3\n",
    "# Let's just get the union of all files and copy it over - extra files are okay\n",
    "all_files = set()\n",
    "for df in dfs.values():\n",
    "    all_files = all_files.union(set(df[\"S3\"]))\n",
    "len(all_files)"
   ]
  },
  {
   "cell_type": "code",
   "execution_count": 13,
   "metadata": {},
   "outputs": [
    {
     "data": {
      "text/plain": [
       "{'data/model_score_files/popEVE_snv_gap_filter_training_files_20240427',\n",
       " 'data/model_score_files/popEVE_snv_training_files_20240420',\n",
       " 'data/model_score_files/popEVE_training_files_20240420'}"
      ]
     },
     "execution_count": 13,
     "metadata": {},
     "output_type": "execute_result"
    }
   ],
   "source": [
    "all_folders = set((\"/\".join(f.split(\"/\")[:-1]) for f in all_files))\n",
    "all_folders"
   ]
  },
  {
   "cell_type": "code",
   "execution_count": 15,
   "metadata": {},
   "outputs": [
    {
     "name": "stdout",
     "output_type": "stream",
     "text": [
      "^C\n",
      "fatal error: \n"
     ]
    }
   ],
   "source": [
    "o2_prefix = \"/n/groups/marks/projects/Poly/\"\n",
    "\n",
    "# Just did manually\n",
    "# for folder in all_folders:\n",
    "    # ! aws s3 sync {o2_prefix}/{folder} s3://markslab-private/popEVE/{folder} --recursive"
   ]
  },
  {
   "cell_type": "code",
   "execution_count": null,
   "metadata": {},
   "outputs": [],
   "source": []
  }
 ],
 "metadata": {
  "kernelspec": {
   "display_name": "general",
   "language": "python",
   "name": "python3"
  },
  "language_info": {
   "codemirror_mode": {
    "name": "ipython",
    "version": 3
   },
   "file_extension": ".py",
   "mimetype": "text/x-python",
   "name": "python",
   "nbconvert_exporter": "python",
   "pygments_lexer": "ipython3",
   "version": "3.10.6"
  }
 },
 "nbformat": 4,
 "nbformat_minor": 2
}
